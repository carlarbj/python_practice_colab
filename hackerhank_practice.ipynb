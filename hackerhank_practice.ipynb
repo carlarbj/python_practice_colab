{
  "nbformat": 4,
  "nbformat_minor": 0,
  "metadata": {
    "colab": {
      "name": "hackerhank practice",
      "provenance": [],
      "authorship_tag": "ABX9TyMrCiWu2stbxXlKLJZYcqgd"
    },
    "kernelspec": {
      "name": "python3",
      "display_name": "Python 3"
    },
    "language_info": {
      "name": "python"
    }
  },
  "cells": [
    {
      "cell_type": "code",
      "metadata": {
        "id": "XJ-T3GYoD1FI"
      },
      "source": [
        "def timeConversion(s):\n",
        "    if s.startswith('12') and s.endswith('AM'):\n",
        "        s=s.replace(s[:2],'00')\n",
        "    elif s.startswith('12') and s.endswith('PM') or s.endswith('AM'):\n",
        "        s\n",
        "    elif s.endswith('PM'):\n",
        "        s2=str(int(s[:2])+12)\n",
        "        s=s.replace(s[:2],s2)\n",
        "    \n",
        "    return s[:8]"
      ],
      "execution_count": null,
      "outputs": []
    },
    {
      "cell_type": "code",
      "metadata": {
        "colab": {
          "base_uri": "https://localhost:8080/",
          "height": 35
        },
        "id": "j9wxX1P1D6SB",
        "outputId": "c68001e6-c859-48b9-bde5-5ec123872547"
      },
      "source": [
        "timeConversion('10:25:43PM')"
      ],
      "execution_count": null,
      "outputs": [
        {
          "output_type": "execute_result",
          "data": {
            "application/vnd.google.colaboratory.intrinsic+json": {
              "type": "string"
            },
            "text/plain": [
              "'22:25:43'"
            ]
          },
          "metadata": {},
          "execution_count": 54
        }
      ]
    },
    {
      "cell_type": "code",
      "metadata": {
        "id": "nov9llkEEvyx"
      },
      "source": [
        "def plusMinus(arr):\n",
        "    pos_list = 0\n",
        "    neg_list = 0\n",
        "    zero_list = 0\n",
        "    \n",
        "    for i in arr:\n",
        "        if i > 0:\n",
        "            pos_list+=1\n",
        "        elif i < 0:\n",
        "            neg_list+=1\n",
        "        else:\n",
        "            zero_list+=1\n",
        "    pos_ratio = format((pos_list)/len(arr), '6f')\n",
        "    neg_ratio = format((neg_list)/len(arr),'6f')\n",
        "    zero_ratio = format((zero_list)/len(arr),'6f')\n",
        "    \n",
        "    return print(f'{pos_ratio}\\n{neg_ratio}\\n{zero_ratio}')"
      ],
      "execution_count": null,
      "outputs": []
    },
    {
      "cell_type": "code",
      "metadata": {
        "colab": {
          "base_uri": "https://localhost:8080/"
        },
        "id": "24O0u5zgnQrL",
        "outputId": "c6325b99-ccd3-4cba-a057-c1166bb77977"
      },
      "source": [
        "plusMinus([1, 0, 0, 0, -6])"
      ],
      "execution_count": null,
      "outputs": [
        {
          "output_type": "stream",
          "name": "stdout",
          "text": [
            "0.200000\n",
            "0.200000\n",
            "0.600000\n"
          ]
        }
      ]
    },
    {
      "cell_type": "code",
      "metadata": {
        "id": "Guzn886RnpbZ"
      },
      "source": [
        "import re"
      ],
      "execution_count": null,
      "outputs": []
    },
    {
      "cell_type": "code",
      "metadata": {
        "colab": {
          "base_uri": "https://localhost:8080/"
        },
        "id": "dCB20lQEXQaO",
        "outputId": "e5381a38-7199-4406-b63b-abb8eb0ed125"
      },
      "source": [
        "Regex_Pattern = r'wikipedia'\t# Do not delete 'r'.\n",
        "\n",
        "\n",
        "Test_String = 'www.wikipedia.com usar a wikipedia 1wikipedia wikipedia1'\n",
        "\n",
        "match = re.findall(Regex_Pattern, Test_String)\n",
        "\n",
        "print(\"Number of matches :\", len(match))"
      ],
      "execution_count": null,
      "outputs": [
        {
          "output_type": "stream",
          "name": "stdout",
          "text": [
            "Number of matches : 4\n"
          ]
        }
      ]
    },
    {
      "cell_type": "code",
      "metadata": {
        "id": "GjTleU43zNHU"
      },
      "source": [
        "def scale (n):\n",
        "  for i in range(1, n+1):\n",
        "    print (' '*(n-(i))+'#'*(i))"
      ],
      "execution_count": null,
      "outputs": []
    },
    {
      "cell_type": "code",
      "metadata": {
        "colab": {
          "base_uri": "https://localhost:8080/"
        },
        "id": "5zgsbfHp0m4W",
        "outputId": "3456b631-5636-4420-c483-25716a2f5589"
      },
      "source": [
        "scale (7)"
      ],
      "execution_count": null,
      "outputs": [
        {
          "output_type": "stream",
          "name": "stdout",
          "text": [
            "      #\n",
            "     ##\n",
            "    ###\n",
            "   ####\n",
            "  #####\n",
            " ######\n",
            "#######\n"
          ]
        }
      ]
    },
    {
      "cell_type": "code",
      "metadata": {
        "colab": {
          "base_uri": "https://localhost:8080/"
        },
        "id": "3t4YHC_P2al6",
        "outputId": "83d30226-1652-4f56-8dac-3a831c7bbcbb"
      },
      "source": [
        "candles = [6, 6, 6, 3]\n",
        "max_candles = 0\n",
        "for i in candles:\n",
        "  if i >= max(candles):\n",
        "    max_candles+=1\n",
        "max_candles"
      ],
      "execution_count": null,
      "outputs": [
        {
          "output_type": "execute_result",
          "data": {
            "text/plain": [
              "3"
            ]
          },
          "metadata": {},
          "execution_count": 46
        }
      ]
    },
    {
      "cell_type": "code",
      "metadata": {
        "colab": {
          "base_uri": "https://localhost:8080/"
        },
        "id": "tgTWMuP155mh",
        "outputId": "b6c522a6-c8d1-4bbf-839b-afb2ef945529"
      },
      "source": [
        "year=2100\n",
        "leap = False\n",
        "if year%4==0 and (year%100!=0 and year%400==0):\n",
        "  leap=True\n",
        " \n",
        "leap"
      ],
      "execution_count": null,
      "outputs": [
        {
          "output_type": "execute_result",
          "data": {
            "text/plain": [
              "False"
            ]
          },
          "metadata": {},
          "execution_count": 91
        }
      ]
    },
    {
      "cell_type": "code",
      "metadata": {
        "colab": {
          "base_uri": "https://localhost:8080/"
        },
        "id": "3NJLnJ-cMGeO",
        "outputId": "c85b68a4-0d7d-496b-daea-ab5ae7c712b4"
      },
      "source": [
        "2100/400"
      ],
      "execution_count": null,
      "outputs": [
        {
          "output_type": "execute_result",
          "data": {
            "text/plain": [
              "5.25"
            ]
          },
          "metadata": {},
          "execution_count": 84
        }
      ]
    },
    {
      "cell_type": "code",
      "metadata": {
        "colab": {
          "base_uri": "https://localhost:8080/"
        },
        "id": "RJJ32wjV8bbS",
        "outputId": "dbaf593c-7702-4e87-cc63-df7684f9e0ae"
      },
      "source": [
        "n = 7\n",
        "lista = [int(i) for i in range(1,n+1)]\n",
        "print(lista)"
      ],
      "execution_count": null,
      "outputs": [
        {
          "output_type": "stream",
          "name": "stdout",
          "text": [
            "[1, 2, 3, 4, 5, 6, 7]\n"
          ]
        }
      ]
    },
    {
      "cell_type": "markdown",
      "metadata": {
        "id": "zY5FnKtk6Prs"
      },
      "source": [
        "Any  less than 40 is a failing grade.\n",
        "\n",
        "\n",
        "If the difference between the  and the next multiple of  is less than , round  up to the next multiple of .\n",
        "\n",
        "If the value of  is less than , no rounding occurs as the result will still be a failing grade.\n",
        "\n",
        "*Examples*\n",
        "\n",
        " round to  (85 - 84 is less than 3)\n",
        " do not round (result is less than 40)\n",
        " do not round (60 - 57 is 3 or higher)"
      ]
    },
    {
      "cell_type": "code",
      "metadata": {
        "id": "aX74X7b44aQG"
      },
      "source": [
        "def gradingStudents(grades):\n",
        "    for grade in grades:\n",
        "      if grade <= 0 and grade <=100:\n",
        "        if grade < 38:\n",
        "            print(grade)\n",
        "        elif grade == 39:\n",
        "            print(grade == 40)\n",
        "        elif grade >=38:\n",
        "            if grade % 5 == 0:\n",
        "                print(grade)\n",
        "            elif grade % 5 == 4:\n",
        "                print(grade+1)\n",
        "            elif grade % 5 == 3:\n",
        "                print(grade+2)\n",
        "            else:\n",
        "                print(grade)"
      ],
      "execution_count": null,
      "outputs": []
    },
    {
      "cell_type": "code",
      "metadata": {
        "id": "0rzspWq88KcU"
      },
      "source": [
        "gradingStudents([4, 60, 43, 67, 90, 21, 38, 68])"
      ],
      "execution_count": null,
      "outputs": []
    },
    {
      "cell_type": "code",
      "metadata": {
        "colab": {
          "base_uri": "https://localhost:8080/"
        },
        "id": "kAujBREABIAO",
        "outputId": "5e1e7a05-d96c-4d02-d284-6ca4f3f83b7f"
      },
      "source": [
        "firstname = input('First name:')\n",
        "lastname = input('Last name:')\n",
        "\n",
        "print(f'Hello {firstname} {lastname}! You just delved into python.')"
      ],
      "execution_count": null,
      "outputs": [
        {
          "output_type": "stream",
          "name": "stdout",
          "text": [
            "First name:Carla\n",
            "Last name:Regina\n",
            "Hello Carla Regina! You just delved into python.\n"
          ]
        }
      ]
    },
    {
      "cell_type": "code",
      "metadata": {
        "id": "AGMQwYzKVWfO"
      },
      "source": [
        "def mutate_string(string, position, character):\n",
        "  string = string[:position] + character + string[position+1:]\n",
        "  print(string)"
      ],
      "execution_count": 20,
      "outputs": []
    },
    {
      "cell_type": "code",
      "metadata": {
        "colab": {
          "base_uri": "https://localhost:8080/"
        },
        "id": "PqeXTHk1WKzO",
        "outputId": "57fad6a0-1982-4816-9fde-f4653b00d251"
      },
      "source": [
        "mutate_string('banana', 2, 'k')"
      ],
      "execution_count": 21,
      "outputs": [
        {
          "output_type": "stream",
          "name": "stdout",
          "text": [
            "bakana\n"
          ]
        }
      ]
    },
    {
      "cell_type": "code",
      "metadata": {
        "colab": {
          "base_uri": "https://localhost:8080/",
          "height": 35
        },
        "id": "ToJxUEjPbq7R",
        "outputId": "e0b07138-1aa7-4576-cd7f-56f43abf68f4"
      },
      "source": [
        "x = 'CARLA carlinha'\n",
        "y = x.lower().split()\n",
        "c=[i.capitalize() for i in y]\n",
        "\" \".join(c)"
      ],
      "execution_count": null,
      "outputs": [
        {
          "output_type": "execute_result",
          "data": {
            "application/vnd.google.colaboratory.intrinsic+json": {
              "type": "string"
            },
            "text/plain": [
              "'Carla Carlinha'"
            ]
          },
          "metadata": {},
          "execution_count": 61
        }
      ]
    },
    {
      "cell_type": "code",
      "metadata": {
        "colab": {
          "base_uri": "https://localhost:8080/",
          "height": 35
        },
        "id": "iNxcxrUAeVg7",
        "outputId": "6a986970-905a-4853-de79-70a5c3f39ab2"
      },
      "source": [
        "x = 'CARLA carlinha'\n",
        "y = x.lower().capitalize()\n",
        "y"
      ],
      "execution_count": null,
      "outputs": [
        {
          "output_type": "execute_result",
          "data": {
            "application/vnd.google.colaboratory.intrinsic+json": {
              "type": "string"
            },
            "text/plain": [
              "'Carla carlinha'"
            ]
          },
          "metadata": {},
          "execution_count": 65
        }
      ]
    },
    {
      "cell_type": "code",
      "metadata": {
        "id": "wjUx8gtMiyW4"
      },
      "source": [
        "a=2\n",
        "b=5\n",
        "\n",
        "for i in range(a,b)\n"
      ],
      "execution_count": null,
      "outputs": []
    },
    {
      "cell_type": "code",
      "source": [
        "import pandas as pd"
      ],
      "metadata": {
        "id": "lYBsFUqBI4bQ"
      },
      "execution_count": null,
      "outputs": []
    },
    {
      "cell_type": "code",
      "source": [
        "pd.read_csv('day.csv')"
      ],
      "metadata": {
        "id": "6HOSQq-UI7Cq",
        "outputId": "fa02195b-d7a2-4746-858e-78e616468bc9",
        "colab": {
          "base_uri": "https://localhost:8080/",
          "height": 617
        }
      },
      "execution_count": null,
      "outputs": [
        {
          "output_type": "execute_result",
          "data": {
            "text/html": [
              "<div>\n",
              "<style scoped>\n",
              "    .dataframe tbody tr th:only-of-type {\n",
              "        vertical-align: middle;\n",
              "    }\n",
              "\n",
              "    .dataframe tbody tr th {\n",
              "        vertical-align: top;\n",
              "    }\n",
              "\n",
              "    .dataframe thead th {\n",
              "        text-align: right;\n",
              "    }\n",
              "</style>\n",
              "<table border=\"1\" class=\"dataframe\">\n",
              "  <thead>\n",
              "    <tr style=\"text-align: right;\">\n",
              "      <th></th>\n",
              "      <th>instant</th>\n",
              "      <th>dteday</th>\n",
              "      <th>season</th>\n",
              "      <th>yr</th>\n",
              "      <th>mnth</th>\n",
              "      <th>holiday</th>\n",
              "      <th>weekday</th>\n",
              "      <th>workingday</th>\n",
              "      <th>weathersit</th>\n",
              "      <th>temp</th>\n",
              "      <th>atemp</th>\n",
              "      <th>hum</th>\n",
              "      <th>windspeed</th>\n",
              "      <th>casual</th>\n",
              "      <th>registered</th>\n",
              "      <th>cnt</th>\n",
              "    </tr>\n",
              "  </thead>\n",
              "  <tbody>\n",
              "    <tr>\n",
              "      <th>0</th>\n",
              "      <td>1</td>\n",
              "      <td>2011-01-01</td>\n",
              "      <td>1</td>\n",
              "      <td>0</td>\n",
              "      <td>1</td>\n",
              "      <td>0</td>\n",
              "      <td>6</td>\n",
              "      <td>0</td>\n",
              "      <td>2</td>\n",
              "      <td>0.344167</td>\n",
              "      <td>0.363625</td>\n",
              "      <td>0.805833</td>\n",
              "      <td>0.160446</td>\n",
              "      <td>331</td>\n",
              "      <td>654</td>\n",
              "      <td>985</td>\n",
              "    </tr>\n",
              "    <tr>\n",
              "      <th>1</th>\n",
              "      <td>2</td>\n",
              "      <td>2011-01-02</td>\n",
              "      <td>1</td>\n",
              "      <td>0</td>\n",
              "      <td>1</td>\n",
              "      <td>0</td>\n",
              "      <td>0</td>\n",
              "      <td>0</td>\n",
              "      <td>2</td>\n",
              "      <td>0.363478</td>\n",
              "      <td>0.353739</td>\n",
              "      <td>0.696087</td>\n",
              "      <td>0.248539</td>\n",
              "      <td>131</td>\n",
              "      <td>670</td>\n",
              "      <td>801</td>\n",
              "    </tr>\n",
              "    <tr>\n",
              "      <th>2</th>\n",
              "      <td>3</td>\n",
              "      <td>2011-01-03</td>\n",
              "      <td>1</td>\n",
              "      <td>0</td>\n",
              "      <td>1</td>\n",
              "      <td>0</td>\n",
              "      <td>1</td>\n",
              "      <td>1</td>\n",
              "      <td>1</td>\n",
              "      <td>0.196364</td>\n",
              "      <td>0.189405</td>\n",
              "      <td>0.437273</td>\n",
              "      <td>0.248309</td>\n",
              "      <td>120</td>\n",
              "      <td>1229</td>\n",
              "      <td>1349</td>\n",
              "    </tr>\n",
              "    <tr>\n",
              "      <th>3</th>\n",
              "      <td>4</td>\n",
              "      <td>2011-01-04</td>\n",
              "      <td>1</td>\n",
              "      <td>0</td>\n",
              "      <td>1</td>\n",
              "      <td>0</td>\n",
              "      <td>2</td>\n",
              "      <td>1</td>\n",
              "      <td>1</td>\n",
              "      <td>0.200000</td>\n",
              "      <td>0.212122</td>\n",
              "      <td>0.590435</td>\n",
              "      <td>0.160296</td>\n",
              "      <td>108</td>\n",
              "      <td>1454</td>\n",
              "      <td>1562</td>\n",
              "    </tr>\n",
              "    <tr>\n",
              "      <th>4</th>\n",
              "      <td>5</td>\n",
              "      <td>2011-01-05</td>\n",
              "      <td>1</td>\n",
              "      <td>0</td>\n",
              "      <td>1</td>\n",
              "      <td>0</td>\n",
              "      <td>3</td>\n",
              "      <td>1</td>\n",
              "      <td>1</td>\n",
              "      <td>0.226957</td>\n",
              "      <td>0.229270</td>\n",
              "      <td>0.436957</td>\n",
              "      <td>0.186900</td>\n",
              "      <td>82</td>\n",
              "      <td>1518</td>\n",
              "      <td>1600</td>\n",
              "    </tr>\n",
              "    <tr>\n",
              "      <th>...</th>\n",
              "      <td>...</td>\n",
              "      <td>...</td>\n",
              "      <td>...</td>\n",
              "      <td>...</td>\n",
              "      <td>...</td>\n",
              "      <td>...</td>\n",
              "      <td>...</td>\n",
              "      <td>...</td>\n",
              "      <td>...</td>\n",
              "      <td>...</td>\n",
              "      <td>...</td>\n",
              "      <td>...</td>\n",
              "      <td>...</td>\n",
              "      <td>...</td>\n",
              "      <td>...</td>\n",
              "      <td>...</td>\n",
              "    </tr>\n",
              "    <tr>\n",
              "      <th>726</th>\n",
              "      <td>727</td>\n",
              "      <td>2012-12-27</td>\n",
              "      <td>1</td>\n",
              "      <td>1</td>\n",
              "      <td>12</td>\n",
              "      <td>0</td>\n",
              "      <td>4</td>\n",
              "      <td>1</td>\n",
              "      <td>2</td>\n",
              "      <td>0.254167</td>\n",
              "      <td>0.226642</td>\n",
              "      <td>0.652917</td>\n",
              "      <td>0.350133</td>\n",
              "      <td>247</td>\n",
              "      <td>1867</td>\n",
              "      <td>2114</td>\n",
              "    </tr>\n",
              "    <tr>\n",
              "      <th>727</th>\n",
              "      <td>728</td>\n",
              "      <td>2012-12-28</td>\n",
              "      <td>1</td>\n",
              "      <td>1</td>\n",
              "      <td>12</td>\n",
              "      <td>0</td>\n",
              "      <td>5</td>\n",
              "      <td>1</td>\n",
              "      <td>2</td>\n",
              "      <td>0.253333</td>\n",
              "      <td>0.255046</td>\n",
              "      <td>0.590000</td>\n",
              "      <td>0.155471</td>\n",
              "      <td>644</td>\n",
              "      <td>2451</td>\n",
              "      <td>3095</td>\n",
              "    </tr>\n",
              "    <tr>\n",
              "      <th>728</th>\n",
              "      <td>729</td>\n",
              "      <td>2012-12-29</td>\n",
              "      <td>1</td>\n",
              "      <td>1</td>\n",
              "      <td>12</td>\n",
              "      <td>0</td>\n",
              "      <td>6</td>\n",
              "      <td>0</td>\n",
              "      <td>2</td>\n",
              "      <td>0.253333</td>\n",
              "      <td>0.242400</td>\n",
              "      <td>0.752917</td>\n",
              "      <td>0.124383</td>\n",
              "      <td>159</td>\n",
              "      <td>1182</td>\n",
              "      <td>1341</td>\n",
              "    </tr>\n",
              "    <tr>\n",
              "      <th>729</th>\n",
              "      <td>730</td>\n",
              "      <td>2012-12-30</td>\n",
              "      <td>1</td>\n",
              "      <td>1</td>\n",
              "      <td>12</td>\n",
              "      <td>0</td>\n",
              "      <td>0</td>\n",
              "      <td>0</td>\n",
              "      <td>1</td>\n",
              "      <td>0.255833</td>\n",
              "      <td>0.231700</td>\n",
              "      <td>0.483333</td>\n",
              "      <td>0.350754</td>\n",
              "      <td>364</td>\n",
              "      <td>1432</td>\n",
              "      <td>1796</td>\n",
              "    </tr>\n",
              "    <tr>\n",
              "      <th>730</th>\n",
              "      <td>731</td>\n",
              "      <td>2012-12-31</td>\n",
              "      <td>1</td>\n",
              "      <td>1</td>\n",
              "      <td>12</td>\n",
              "      <td>0</td>\n",
              "      <td>1</td>\n",
              "      <td>1</td>\n",
              "      <td>2</td>\n",
              "      <td>0.215833</td>\n",
              "      <td>0.223487</td>\n",
              "      <td>0.577500</td>\n",
              "      <td>0.154846</td>\n",
              "      <td>439</td>\n",
              "      <td>2290</td>\n",
              "      <td>2729</td>\n",
              "    </tr>\n",
              "  </tbody>\n",
              "</table>\n",
              "<p>731 rows × 16 columns</p>\n",
              "</div>"
            ],
            "text/plain": [
              "     instant      dteday  season  yr  ...  windspeed  casual  registered   cnt\n",
              "0          1  2011-01-01       1   0  ...   0.160446     331         654   985\n",
              "1          2  2011-01-02       1   0  ...   0.248539     131         670   801\n",
              "2          3  2011-01-03       1   0  ...   0.248309     120        1229  1349\n",
              "3          4  2011-01-04       1   0  ...   0.160296     108        1454  1562\n",
              "4          5  2011-01-05       1   0  ...   0.186900      82        1518  1600\n",
              "..       ...         ...     ...  ..  ...        ...     ...         ...   ...\n",
              "726      727  2012-12-27       1   1  ...   0.350133     247        1867  2114\n",
              "727      728  2012-12-28       1   1  ...   0.155471     644        2451  3095\n",
              "728      729  2012-12-29       1   1  ...   0.124383     159        1182  1341\n",
              "729      730  2012-12-30       1   1  ...   0.350754     364        1432  1796\n",
              "730      731  2012-12-31       1   1  ...   0.154846     439        2290  2729\n",
              "\n",
              "[731 rows x 16 columns]"
            ]
          },
          "metadata": {},
          "execution_count": 2
        }
      ]
    },
    {
      "cell_type": "code",
      "source": [
        "n = int(input (\"insira um número: \"))\n",
        "x=[]\n",
        "for i in range(1, n+1):\n",
        "  x.append(str(i))\n",
        "\n",
        "''.join (x)"
      ],
      "metadata": {
        "colab": {
          "base_uri": "https://localhost:8080/",
          "height": 53
        },
        "id": "YXLHwI-pc-N-",
        "outputId": "31aaca27-350d-45f6-a6f2-4e7efbcc5ec2"
      },
      "execution_count": null,
      "outputs": [
        {
          "name": "stdout",
          "output_type": "stream",
          "text": [
            "insira um número: 4\n"
          ]
        },
        {
          "output_type": "execute_result",
          "data": {
            "application/vnd.google.colaboratory.intrinsic+json": {
              "type": "string"
            },
            "text/plain": [
              "'1234'"
            ]
          },
          "metadata": {},
          "execution_count": 16
        }
      ]
    },
    {
      "cell_type": "code",
      "source": [
        "vbs=0\n",
        "n=20\n",
        "for i in range (1,n):\n",
        "  vbs+=10000000+i\n",
        "  print (10000000+i)\n",
        "\n",
        "vbs"
      ],
      "metadata": {
        "id": "6qP7pTcvoX3R",
        "colab": {
          "base_uri": "https://localhost:8080/"
        },
        "outputId": "d73c7c8a-3876-45f8-cc7d-f29c0c404f3f"
      },
      "execution_count": 9,
      "outputs": [
        {
          "output_type": "stream",
          "name": "stdout",
          "text": [
            "10000001\n",
            "10000002\n",
            "10000003\n",
            "10000004\n",
            "10000005\n",
            "10000006\n",
            "10000007\n",
            "10000008\n",
            "10000009\n",
            "10000010\n",
            "10000011\n",
            "10000012\n",
            "10000013\n",
            "10000014\n",
            "10000015\n",
            "10000016\n",
            "10000017\n",
            "10000018\n",
            "10000019\n"
          ]
        },
        {
          "output_type": "execute_result",
          "data": {
            "text/plain": [
              "190000190"
            ]
          },
          "metadata": {},
          "execution_count": 9
        }
      ]
    },
    {
      "cell_type": "code",
      "source": [
        "arr = [1, 1, 0, 0, -1, -1]\n",
        "p=0\n",
        "n=0\n",
        "z=0\n",
        "\n",
        "for i in arr:\n",
        "  if i > 0:\n",
        "    p+=1\n",
        "  elif i < 0:\n",
        "    n+=1\n",
        "  elif i == 0:\n",
        "    z+=1\n",
        "\n",
        "print (format(p/len(arr),'6f'), format(n/len(arr),'6f'), format(z/len(arr),'6f'))"
      ],
      "metadata": {
        "colab": {
          "base_uri": "https://localhost:8080/"
        },
        "id": "V9cMoCFzdf1M",
        "outputId": "4d4f5636-b8f4-41d1-94fa-92a3ae0203a9"
      },
      "execution_count": 19,
      "outputs": [
        {
          "output_type": "stream",
          "name": "stdout",
          "text": [
            "0.333333 0.333333 0.333333\n"
          ]
        }
      ]
    }
  ]
}